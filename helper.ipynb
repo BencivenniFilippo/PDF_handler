{
 "cells": [
  {
   "cell_type": "code",
   "execution_count": 2,
   "metadata": {},
   "outputs": [],
   "source": [
    "import os\n",
    "import PyPDF2"
   ]
  },
  {
   "cell_type": "code",
   "execution_count": 4,
   "metadata": {},
   "outputs": [
    {
     "name": "stdout",
     "output_type": "stream",
     "text": [
      "01_introduction.pdf: (4155.011, 1170.898) - (4, 1038)\n",
      "02_simple_linear_model.pdf: (6325.85, 1022.47) - (6, 1054)\n",
      "03_properties_of_lm.pdf: (2983.856, 774.7245) - (2, 1491)\n",
      "04_simple_gaussian_linear_model.pdf: (2391.387, 763.6923) - (2, 1195)\n",
      "05_inference_on_beta.pdf: (4309.311, 921.2457) - (4, 1077)\n",
      "06_inference_on_mu.pdf: (2040.747, 866.7699) - (2, 1020)\n",
      "07_sum_of_squares_dec.pdf: (3089.047, 1075.795) - (3, 1029)\n",
      "08_coeff_R2.pdf: (1167.584, 801.7822) - (1, 1167)\n",
      "09_1_test_goodness_fit.pdf: (4135.882, 835.7639) - (4, 1033)\n",
      "09_2_test_goodness_fit.pdf: (2247.375, 790.0958) - (2, 1123)\n",
      "10_1_residuals.pdf: (1940.385, 651.0284) - (2, 970)\n",
      "10_2_diagnostics.pdf: (4908.493, 963.7639) - (4, 1227)\n",
      "11_multiple_lm.pdf: (5231.685, 1049.128) - (5, 1046)\n",
      "12_estimation_multiple_lm.pdf: (2747.368, 849.7507) - (2, 1373)\n",
      "13_geometric_interpretation.pdf: (3460.873, 915.0563) - (3, 1153)\n",
      "14_properties_estimators.pdf: (2155.205, 826.4981) - (2, 1077)\n",
      "Error reading 15_gauss_markov.pdf: [<class 'decimal.DivisionByZero'>]\n",
      "SAAAAAAAAAAAAAAAAAAAAAAAAAAAAAAA\n",
      "16_1_test_beta.pdf: (1710.904, 853.9519) - (1, 1710)\n",
      "16_2_subset.pdf: (3280.992, 835.4121) - (3, 1093)\n",
      "16_3_geom_interpretation_of_the_test.pdf: (1410.35, 731.3395) - (1, 1410)\n",
      "16_4_special_cases.pdf: (1882.652, 929.8887) - (2, 941)\n",
      "17_01_cuckoo_exercise.pdf: (5138.489, 853.9227) - (5, 1027)\n",
      "17_02_anova.pdf: (5140.175, 766.1764) - (5, 1028)\n",
      "17_03_two_way_anova.pdf: (5234.188, 816.6888) - (5, 1046)\n",
      "18_ancova.pdf: (3689.348, 749.1953) - (3, 1229)\n",
      "19_adjusted_R2.pdf: (1644.208, 732.4803) - (1, 1644)\n",
      "20_glm_intro.pdf: (1409.932, 710.4969) - (1, 1409)\n",
      "21_01_poisson_regression.pdf: (4431.249, 855.6671) - (4, 1107)\n",
      "21_02_poisson_regression.pdf: (5769.872, 855.3269) - (5, 1153)\n",
      "22_binary_data_intro.pdf: (2592.184, 726.82) - (2, 1296)\n",
      "23_01_logistic_regression.pdf: (3674.955, 844.3126) - (3, 1224)\n",
      "23_02_logistic_regression.pdf: (5626.679, 831.6627) - (5, 1125)\n",
      "24_threshold_models.pdf: (2165.625, 755.0505) - (2, 1082)\n",
      "25_binomial_NOTPARTOFEXAM.pdf: (4752.79, 916.0225) - (4, 1188)\n",
      "Error reading split: [Errno 13] Permission denied: 'G:\\\\My Drive\\\\Documenti\\\\Statistical Modelling\\\\Lessons\\\\split'\n",
      "SAAAAAAAAAAAAAAAAAAAAAAAAAAAAAAA\n"
     ]
    }
   ],
   "source": [
    "def get_first_page_height(doc_path):\n",
    "    try:\n",
    "        with open(doc_path, 'rb') as f:\n",
    "            reader = PyPDF2.PdfReader(f)\n",
    "\n",
    "            page = reader.pages[0]\n",
    "\n",
    "            height = page.mediabox.height\n",
    "            width = page.mediabox.width\n",
    "            denominator = 1000\n",
    "            res = height//denominator\n",
    "            split_height = height//res\n",
    "\n",
    "            if split_height < 1800:\n",
    "                print(f'{os.path.basename(doc_path)}: ({page.mediabox.height}, {width}) - ({res}, {split_height})') # print the base name of the file and it's length\n",
    "\n",
    "            else:\n",
    "                res += 1\n",
    "                split_height = height//res\n",
    "                print(f'{os.path.basename(doc_path)}: ({page.mediabox.height}, {width}) - ({res}, {split_height})') # print the base name of the file and it's length\n",
    "\n",
    "            return res\n",
    "        \n",
    "    except Exception as e:\n",
    "        print((f\"Error reading {os.path.basename(doc_path)}: {e}\"))\n",
    "        print('SAAAAAAAAAAAAAAAAAAAAAAAAAAAAAAA')\n",
    "        return 1\n",
    "\n",
    "\n",
    "folder_path = r\"G:\\My Drive\\Documenti\\Statistical Modelling\\Lessons\"\n",
    "\n",
    "for file_name in os.listdir(folder_path):\n",
    "    get_first_page_height(folder_path + '\\\\' + file_name)"
   ]
  }
 ],
 "metadata": {
  "kernelspec": {
   "display_name": ".venv",
   "language": "python",
   "name": "python3"
  },
  "language_info": {
   "codemirror_mode": {
    "name": "ipython",
    "version": 3
   },
   "file_extension": ".py",
   "mimetype": "text/x-python",
   "name": "python",
   "nbconvert_exporter": "python",
   "pygments_lexer": "ipython3",
   "version": "3.13.1"
  }
 },
 "nbformat": 4,
 "nbformat_minor": 2
}
