{
 "cells": [
  {
   "cell_type": "code",
   "execution_count": 1,
   "metadata": {},
   "outputs": [],
   "source": [
    "import os\n",
    "import PyPDF2"
   ]
  },
  {
   "cell_type": "code",
   "execution_count": 11,
   "metadata": {},
   "outputs": [
    {
     "name": "stdout",
     "output_type": "stream",
     "text": [
      "01_introduction.pdf: 4155.011\n",
      "02_simple_linear_model.pdf: 6325.85\n",
      "03_properties_of_lm.pdf: 2983.856\n",
      "04_simple_gaussian_linear_model.pdf: 2391.387\n",
      "05_inference_on_beta.pdf: 4309.311\n",
      "06_inference_on_mu.pdf: 2040.747\n",
      "07_sum_of_squares_dec.pdf: 3089.047\n",
      "08_coeff_R2.pdf: 1167.584\n",
      "09_1_test_goodness_fit.pdf: 4135.882\n",
      "09_2_test_goodness_fit.pdf: 2247.375\n",
      "10_1_residuals.pdf: 1940.385\n",
      "10_2_diagnostics.pdf: 4908.493\n",
      "11_multiple_lm.pdf: 5231.685\n",
      "12_estimation_multiple_lm.pdf: 2747.368\n",
      "13_geometric_interpretation.pdf: 3460.873\n",
      "14_properties_estimators.pdf: 2155.205\n",
      "15_gauss_markov.pdf: 913.4111\n",
      "16_1_test_beta.pdf: 1710.904\n",
      "16_2_subset.pdf: 3280.992\n",
      "16_3_geom_interpretation_of_the_test.pdf: 1410.35\n",
      "16_4_special_cases.pdf: 1882.652\n",
      "17_01_cuckoo_exercise.pdf: 5138.489\n",
      "17_02_anova.pdf: 5140.175\n",
      "17_03_two_way_anova.pdf: 5234.188\n",
      "18_ancova.pdf: 3689.348\n",
      "19_adjusted_R2.pdf: 1644.208\n",
      "20_glm_intro.pdf: 1409.932\n",
      "21_01_poisson_regression.pdf: 4431.249\n",
      "21_02_poisson_regression.pdf: 5769.872\n",
      "22_binary_data_intro.pdf: 2592.184\n",
      "23_01_logistic_regression.pdf: 3674.955\n",
      "23_02_logistic_regression.pdf: 5626.679\n",
      "24_threshold_models.pdf: 2165.625\n",
      "25_binomial_NOTPARTOFEXAM.pdf: 4752.79\n"
     ]
    }
   ],
   "source": [
    "def get_first_page_height(doc_path):\n",
    "    try:\n",
    "        with open(doc_path, 'rb') as f:\n",
    "            reader = PyPDF2.PdfReader(f)\n",
    "\n",
    "            page = reader.pages[0]\n",
    "\n",
    "            print(f'{os.path.basename(doc_path)}: {page.mediabox.height}') # print the base name of the file and it's length\n",
    "        \n",
    "    except Exception as e:\n",
    "        print((f\"Error reading {os.path.basename(doc_path)}: {e}\"))\n",
    "\n",
    "\n",
    "folder_path = r\"G:\\My Drive\\Documenti\\Statistical Modelling\\Lessons\"\n",
    "\n",
    "for file_name in os.listdir(folder_path):\n",
    "    get_first_page_height(folder_path + '\\\\' + file_name)"
   ]
  },
  {
   "cell_type": "code",
   "execution_count": null,
   "metadata": {},
   "outputs": [],
   "source": []
  }
 ],
 "metadata": {
  "kernelspec": {
   "display_name": ".venv",
   "language": "python",
   "name": "python3"
  },
  "language_info": {
   "codemirror_mode": {
    "name": "ipython",
    "version": 3
   },
   "file_extension": ".py",
   "mimetype": "text/x-python",
   "name": "python",
   "nbconvert_exporter": "python",
   "pygments_lexer": "ipython3",
   "version": "3.13.1"
  }
 },
 "nbformat": 4,
 "nbformat_minor": 2
}
